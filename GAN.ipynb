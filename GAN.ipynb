{
 "cells": [
  {
   "cell_type": "markdown",
   "metadata": {},
   "source": [
    "A simple GAN."
   ]
  },
  {
   "cell_type": "code",
   "execution_count": 26,
   "metadata": {
    "ExecuteTime": {
     "end_time": "2023-10-05T22:47:08.252511300Z",
     "start_time": "2023-10-05T22:47:07.919018200Z"
    }
   },
   "outputs": [],
   "source": [
    "import numpy as np\n",
    "import matplotlib.pyplot as plt\n",
    "import tensorflow as tf\n",
    "import tensorflow_datasets as tfds\n",
    "from tensorflow.keras import layers, losses, Input\n",
    "from tensorflow.keras.datasets import fashion_mnist, mnist\n",
    "from tensorflow.keras.models import Model\n",
    "from scipy.ndimage import gaussian_filter\n",
    "import time\n",
    "from IPython import display\n",
    "\n",
    "# (x_train, _), (x_test, _) = fashion_mnist.load_data()\n",
    "# x_train = x_train.astype('float32') / 255.\n",
    "# x_test = x_test.astype('float32') / 255.\n",
    "#\n",
    "# x_train = x_train[..., tf.newaxis]\n",
    "# x_test = x_test[..., tf.newaxis]\n",
    "\n",
    "(mn_x_train, mn_x_train_labels), (mn_x_test, test_labels) = mnist.load_data()\n",
    "\n",
    "# sample_size = 10000\n",
    "#\n",
    "# mn_x_train = mn_x_train[:sample_size]\n",
    "# mn_x_train_labels = mn_x_train_labels[:sample_size]\n",
    "\n",
    "mn_x_train = mn_x_train.astype('float32') / 255.\n",
    "mn_x_test = mn_x_test.astype('float32') / 255.\n",
    "mn_x_train_labels = mn_x_train_labels.astype('float32')\n",
    "mn_x_test_labels = test_labels.astype('float32')\n",
    "\n",
    "mn_x_train = mn_x_train[..., tf.newaxis]\n",
    "mn_x_test = mn_x_test[..., tf.newaxis]\n",
    "\n",
    "# print(x_train.shape)"
   ]
  },
  {
   "cell_type": "code",
   "execution_count": 27,
   "metadata": {
    "collapsed": false,
    "ExecuteTime": {
     "end_time": "2023-10-05T22:47:08.341180100Z",
     "start_time": "2023-10-05T22:47:08.299148900Z"
    }
   },
   "outputs": [],
   "source": [
    "# # This method returns a helper function to compute cross entropy loss\n",
    "# cross_entropy = tf.keras.losses.BinaryCrossentropy(from_logits=True)\n",
    "\n",
    "class GAN(tf.keras.Model):\n",
    "    \"\"\"Generative Adversarial Network.\"\"\"\n",
    "\n",
    "    def __init__(self, gen_input_dim=100, generator_aim=\"ODD_EVEN\"):\n",
    "        super(GAN, self).__init__()\n",
    "        self.gen_input_dim = gen_input_dim\n",
    "\n",
    "        if generator_aim == \"ODD_EVEN\":\n",
    "            num_labels = 2\n",
    "        elif generator_aim == \"SPECIFIC\":\n",
    "            num_labels = 10\n",
    "        else:\n",
    "            raise ValueError(f\"generator_aim: {generator_aim} must be either ODD_EVEN or SPECIFIC\")\n",
    "\n",
    "\n",
    "        self.generator = tf.keras.Sequential(\n",
    "            [\n",
    "                layers.InputLayer(input_shape=(gen_input_dim,)),\n",
    "                layers.Dense(7 * 7 * 256),\n",
    "                layers.BatchNormalization(),\n",
    "                layers.ReLU(),\n",
    "                layers.Reshape((7, 7, 256)),\n",
    "                layers.Conv2DTranspose(128, 5, strides=1, padding='same'),\n",
    "                layers.BatchNormalization(),\n",
    "                layers.ReLU(),\n",
    "                layers.Conv2DTranspose(64, 5, strides=2, padding='same'),\n",
    "                layers.BatchNormalization(),\n",
    "                layers.ReLU(),\n",
    "                layers.Conv2DTranspose(1, 5, strides=2, padding='same', activation='sigmoid')\n",
    "            ],\n",
    "            name='generator'\n",
    "        )\n",
    "\n",
    "        self.num_labels = num_labels\n",
    "        self.discriminator = GAN.create_multi_output_discriminator(num_labels)\n",
    "\n",
    "\n",
    "        @tf.function\n",
    "        def sample(self, eps=None):\n",
    "            if eps is None:\n",
    "                eps = tf.random.normal(shape=(100, self.latent_dim))\n",
    "            return self.generator(eps, training=False)\n",
    "\n",
    "\n",
    "    @staticmethod\n",
    "    def create_multi_output_discriminator(num_labels = 2):\n",
    "        \"\"\"\n",
    "        Creates a discriminator that takes in an image and a label and outputs a vector.\n",
    "\n",
    "        Takes in input a flattened image, along with a vector concatenated with the label.\n",
    "\n",
    "        :param num_labels: number of labels to choose from\n",
    "        :return: model\n",
    "        \"\"\"\n",
    "        image_input = Input(shape=(28,28,1), name='image_input')\n",
    "        label_input = Input(shape=(num_labels,), name='label_input')\n",
    "\n",
    "        flattened_image = layers.Flatten()(image_input)\n",
    "\n",
    "        concatenated_inputs = layers.concatenate([flattened_image, label_input])\n",
    "\n",
    "        discriminator = tf.keras.Sequential(\n",
    "            [\n",
    "                layers.InputLayer(input_shape=(28*28 + num_labels,)),  # Corrected input shape\n",
    "                layers.Dense(64, activation='relu'),\n",
    "                layers.Dense(128, activation='relu'),\n",
    "                layers.Dense(256, activation='relu'),\n",
    "                layers.Dense(128, activation='relu'),\n",
    "                layers.Dense(64, activation='relu'),\n",
    "                layers.Dense(2 + num_labels, activation='softmax')\n",
    "            ]\n",
    "        )\n",
    "        output = discriminator(concatenated_inputs)\n",
    "\n",
    "        return Model(inputs=[image_input, label_input], outputs=output, name='discriminator')\n"
   ]
  },
  {
   "cell_type": "code",
   "execution_count": 28,
   "outputs": [],
   "source": [
    "cat_cross_entropy = tf.keras.losses.CategoricalCrossentropy(from_logits=False)\n",
    "\n",
    "# soft_max_cross_entropy = tf.nn.softmax_cross_entropy_with_logits()\n",
    "\n",
    "# mean_squares = tf.keras.losses.MeanSquaredError()\n",
    "\n",
    "class GAN_trainer():\n",
    "\n",
    "    def __init__(self, train_images, train_labels, gen_input_dim=100, batch_size=256):\n",
    "        self.gan = GAN(gen_input_dim)\n",
    "        self.generator_optimizer = tf.keras.optimizers.Adam(1e-4)\n",
    "        self.discriminator_optimizer = tf.keras.optimizers.Adam(1e-4)\n",
    "        self.gen_input_dim = gen_input_dim\n",
    "        self.num_examples_to_generate = 16\n",
    "        self.seed = tf.random.normal([self.num_examples_to_generate, self.gen_input_dim])\n",
    "        self.batch_size = batch_size\n",
    "\n",
    "        self.images_dataset = tf.data.Dataset.from_tensor_slices(train_images)\n",
    "        self.labels_dataset = tf.data.Dataset.from_tensor_slices(train_labels)\n",
    "\n",
    "        self.dataset = tf.data.Dataset.zip((self.images_dataset, self.labels_dataset)).shuffle(train_images.shape[0]).batch(\n",
    "            self.batch_size) # Combine images and labels into dataset.\n",
    "\n",
    "        self.num_batches = train_images.shape[0] // self.batch_size\n",
    "        self.image_labels = None\n",
    "\n",
    "    def create_generator_input_and_labels(self, generator_aim=\"ODD_EVEN\", batch_size=-1):\n",
    "        \"\"\"\n",
    "        Creates generator input and labels.\n",
    "\n",
    "        Input is a random vector with size determined by gen_input_dim and another label vector concanated with it. Looks roughly like:\n",
    "\n",
    "        [random_vector, label_vector]\n",
    "\n",
    "        :param generator_aim: aim of the generator, e.g. \"ODD_EVEN\" means its drying to distinguish between odd and even numbers. Used to decide how big the label vector should be.\n",
    "        :return: generator input and labels created.\n",
    "        \"\"\"\n",
    "        if batch_size == -1:\n",
    "            batch_size = self.batch_size\n",
    "\n",
    "        if generator_aim == \"ODD_EVEN\":\n",
    "            generator_noise = tf.random.normal([batch_size, self.gen_input_dim - 2])\n",
    "            generator_labels = GAN_trainer.random_one_hot_matrix(batch_size, 2)\n",
    "            generator_input = tf.concat([generator_noise, generator_labels], axis=1)\n",
    "            return generator_input, generator_labels\n",
    "        elif generator_aim == \"SPECIFIC\":\n",
    "            generator_noise = tf.random.normal([batch_size, self.gen_input_dim- 10])\n",
    "            generator_labels = GAN_trainer.random_one_hot_matrix(batch_size, 10)\n",
    "            generator_input = tf.concat([generator_noise, generator_labels], axis=1)\n",
    "            return generator_input, generator_labels\n",
    "        else:\n",
    "            raise ValueError(f\"Generator aim: '{generator_aim}' not recognized\") # For my own sanity\n",
    "\n",
    "    @tf.function\n",
    "    def one_hot_labels(self, labels, generator_aim=\"ODD_EVEN\"):\n",
    "        \"\"\"\n",
    "        Creates the labels for the real images.\n",
    "\n",
    "        Labels depend on what the generator is trying to do. E.g. create odd or even numbers or create specific numbers.\n",
    "\n",
    "        :param labels: labels of the real images. Encoded as integer, e.g. 4, 6, 2\n",
    "        :param generator_aim: aim of the generator, e.g. \"ODD_EVEN\" means its trying to distinguish between odd and even numbers\n",
    "        :return: labels encoded as one-hot tensors\n",
    "        \"\"\"\n",
    "        if generator_aim == \"ODD_EVEN\":\n",
    "            even_mask = tf.equal(tf.math.mod(labels, 2), 0)\n",
    "            odd_mask = tf.logical_not(even_mask)\n",
    "            even_labels = tf.where(even_mask, tf.ones_like(labels), tf.zeros_like(labels))\n",
    "            odd_labels = tf.where(odd_mask, tf.ones_like(labels), tf.zeros_like(labels))\n",
    "            real_labels = tf.stack([even_labels, odd_labels], axis=-1)\n",
    "        elif generator_aim == \"SPECIFIC\":\n",
    "            real_labels = tf.one_hot(labels, depth=10)\n",
    "        else:\n",
    "            raise ValueError(f\"Generator aim: '{generator_aim}' not recognized\")  # For my own sanity\n",
    "\n",
    "        return real_labels\n",
    "\n",
    "    def discriminator_output_to_one_hot(self, discriminator_output):\n",
    "        \"\"\"\n",
    "        Translates discriminator output to one_hot_encoding\n",
    "\n",
    "        Not entirely sure if this function is necessary. You can more or less ignore it for now.\n",
    "        :param discriminator_output:\n",
    "        :return:\n",
    "        \"\"\"\n",
    "        first_two = tf.argmax(discriminator_output[:, :2], axis=1)\n",
    "        first_two = tf.expand_dims(first_two, axis=1)\n",
    "        last_ones = tf.argmax(discriminator_output[:, 2:], axis=1)\n",
    "        last_ones = tf.expand_dims(last_ones, axis=1)\n",
    "        first_two = tf.cast(first_two, dtype=tf.int32)\n",
    "        last_ones = tf.cast(last_ones, dtype=tf.int32) + 2\n",
    "        indices = tf.concat([first_two, last_ones], axis=1)\n",
    "\n",
    "        num_rows = tf.shape(indices)[0]\n",
    "        row_range = tf.range(num_rows)\n",
    "        row_indices = tf.tile(tf.expand_dims(row_range, 1), [1, tf.shape(indices)[1]])\n",
    "        row_indices_flat = tf.reshape(row_indices, [-1])\n",
    "        col_indices_flat = tf.reshape(indices, [-1])\n",
    "        expanded_indices = tf.stack([row_indices_flat, col_indices_flat], axis=-1)\n",
    "        expanded_indices = tf.cast(expanded_indices, dtype=tf.int64)\n",
    "\n",
    "        output_size = tf.shape(discriminator_output)[0]\n",
    "\n",
    "        values = [1 for _ in range(2 * output_size)]\n",
    "\n",
    "\n",
    "        shape = tf.cast(tf.shape(discriminator_output), \"int64\")\n",
    "        output = tf.SparseTensor(expanded_indices, values, shape)\n",
    "\n",
    "        # print(output._numpy())\n",
    "\n",
    "        dense = tf.sparse.to_dense(output)\n",
    "\n",
    "        return dense\n",
    "\n",
    "    @tf.function\n",
    "    def train_step(self, images, generator_aim=\"ODD_EVEN\", this_batch_size=-1):\n",
    "        \"\"\"\n",
    "        Completes a training step\n",
    "\n",
    "        :param images: images to train on\n",
    "        :param generator_aim: aim of the generator, e.g. \"ODD_EVEN\" means its drying to distinguish between odd and even numbers\n",
    "        :param this_batch_size: batch size of this step. If -1, the default batch size of the trainer is used (256). Since the final batch can have less than 256 els, this is necessary.\n",
    "        :return: generator loss and discriminator loss\n",
    "        \"\"\"\n",
    "        image_labels = self.one_hot_labels(self.image_labels, generator_aim)\n",
    "\n",
    "        generator_input, generator_labels = self.create_generator_input_and_labels(generator_aim, this_batch_size)\n",
    "\n",
    "        with tf.GradientTape() as gen_tape, tf.GradientTape() as disc_tape:\n",
    "            generated_images = self.gan.generator(generator_input, training=True)\n",
    "\n",
    "            disc_real_output = self.gan.discriminator([images, image_labels], training=True)\n",
    "            disc_gen_output = self.gan.discriminator([generated_images, generator_labels], training=True)\n",
    "\n",
    "            gen_loss = self.generator_loss(disc_gen_output, generator_labels)\n",
    "            disc_loss = self.discriminator_loss(disc_real_output, disc_gen_output, image_labels, generator_labels)\n",
    "\n",
    "            gradients_of_generator = gen_tape.gradient(gen_loss, self.gan.generator.trainable_variables)\n",
    "            gradients_of_discriminator = disc_tape.gradient(disc_loss, self.gan.discriminator.trainable_variables)\n",
    "\n",
    "            self.generator_optimizer.apply_gradients(\n",
    "                zip(gradients_of_generator, self.gan.generator.trainable_variables))\n",
    "            self.discriminator_optimizer.apply_gradients(\n",
    "                zip(gradients_of_discriminator, self.gan.discriminator.trainable_variables))\n",
    "\n",
    "        return gen_loss, disc_loss\n",
    "\n",
    "    @tf.function\n",
    "    def discriminator_loss(self, real_output, generator_output, real_labels, generator_labels, num_labels=2):\n",
    "        \"\"\"\n",
    "        Computes the loss function for the discriminator.\n",
    "\n",
    "        Uses cross entropy loss.\n",
    "\n",
    "        :param real_output: Discriminator's output for real images.\n",
    "        :param generator_output: Discriminator's output for generated images.\n",
    "        :param real_labels: One-hot encoded labels for real images.\n",
    "        :param generator_labels: One-hot encoded labels for generated images.\n",
    "        :param num_labels: Number of classes in the discriminator (e.g., 2 for \"ODD_EVEN\").\n",
    "        :return: The computed discriminator loss.\n",
    "        \"\"\"\n",
    "\n",
    "        input_size = tf.shape(real_output)[0]\n",
    "\n",
    "        real_legit_label_row = tf.constant([0, 1], dtype=tf.float32) # Changed from [0, num_labels]\n",
    "        gen_legit_label_row = tf.constant([1, 0], dtype=tf.float32)\n",
    "\n",
    "        real_expected_legit_labels = tf.tile(tf.expand_dims(real_legit_label_row, axis=0), [input_size, 1])\n",
    "        gen_expected_legit_labels = tf.tile(tf.expand_dims(gen_legit_label_row, axis=0), [input_size, 1])\n",
    "        real_expected_legit_labels = tf.cast(real_expected_legit_labels, tf.float32)\n",
    "        gen_expected_legit_labels = tf.cast(gen_expected_legit_labels, tf.float32)\n",
    "\n",
    "        real_output_legit_labels = real_output[:, :2]\n",
    "        gen_output_legit_labels = generator_output[:, :2]\n",
    "        real_output_legit_labels = tf.cast(real_output_legit_labels, tf.float32)\n",
    "        gen_output_legit_labels = tf.cast(gen_output_legit_labels, tf.float32)\n",
    "\n",
    "        real_legit_loss = cat_cross_entropy(real_expected_legit_labels, real_output_legit_labels)\n",
    "        gen_legit_loss = cat_cross_entropy(gen_expected_legit_labels, gen_output_legit_labels)\n",
    "\n",
    "        expected_real_output = tf.concat([real_legit_labels, real_labels], axis=1)\n",
    "        expected_generator_output = tf.concat([gen_legit_labels, generator_labels], axis=1)\n",
    "\n",
    "        real_output = tf.cast(real_output, tf.float32)\n",
    "        generator_output = tf.cast(generator_output, tf.float32)\n",
    "        expected_real_output = tf.cast(expected_real_output, tf.float32)\n",
    "        expected_generator_output = tf.cast(expected_generator_output, tf.float32)\n",
    "\n",
    "        real_loss = cat_cross_entropy(expected_real_output, real_output)\n",
    "        fake_loss = cat_cross_entropy(expected_generator_output, generator_output)\n",
    "        total_loss = real_loss + fake_loss\n",
    "        return total_loss\n",
    "\n",
    "    @tf.function\n",
    "    def generator_loss(self, discriminator_output, generator_labels, num_labels=2):\n",
    "        \"\"\"\n",
    "        Computes the loss function for the generator.\n",
    "\n",
    "        Takes in the output of the descriminator from the generated images and the labels that the generator was trying to create.\n",
    "\n",
    "        :param discriminator_output: output from the descriminator, I.e. If the discriminator believes the images are legit or not\n",
    "        :return: the cross entropy loss\n",
    "        \"\"\"\n",
    "        output_size = tf.shape(discriminator_output)[0]\n",
    "\n",
    "        expected_true_false = tf.constant([0, 1], dtype=tf.float32)\n",
    "        repeated_rows = tf.repeat(tf.expand_dims(expected_true_false, axis=0), repeats=output_size, axis=0)\n",
    "        expected_output = tf.concat([repeated_rows, generator_labels], axis=1)\n",
    "        discriminator_output = tf.cast(discriminator_output, \"float32\")\n",
    "\n",
    "        # print(expected_output)\n",
    "        return cat_cross_entropy(expected_output, discriminator_output)\n",
    "\n",
    "    @staticmethod\n",
    "    def random_one_hot_matrix(num_rows, num_cols):\n",
    "        \"\"\"\n",
    "        Creates a random one hot matrix\n",
    "\n",
    "        :param num_rows: number of rows in the matrix\n",
    "        :param num_cols: number of columns in the matrix\n",
    "        :return: a random one hot matrix\n",
    "        \"\"\"\n",
    "        return tf.one_hot(tf.random.uniform(shape=(num_rows,), minval=0, maxval=num_cols, dtype=tf.int32), num_cols)\n",
    "\n",
    "    def train(self, epochs):\n",
    "        self.gen_losses = []\n",
    "        self.disc_losses = []\n",
    "        for epoch in range(epochs):\n",
    "            start = time.time()\n",
    "\n",
    "            gen_loss = 0\n",
    "            disc_loss = 0\n",
    "\n",
    "            print(f\"Epoch {epoch + 1}/{epochs}\")\n",
    "\n",
    "            i = 0\n",
    "\n",
    "            for batch in self.dataset:\n",
    "                # print(f\"Epoch {epoch + 1}/{epochs}, Batch {i}/{self.num_batches}\", flush=True)\n",
    "\n",
    "                image_batch, label_batch = batch\n",
    "                this_batch_size = tf.shape(image_batch)[0]\n",
    "\n",
    "                self.image_labels = label_batch\n",
    "                gl, dl = self.train_step(image_batch, this_batch_size=this_batch_size)\n",
    "                # print(\"here 4\")\n",
    "                gen_loss += gl\n",
    "                disc_loss += dl\n",
    "                i += 1\n",
    "\n",
    "            self.gen_losses.append(gen_loss / self.num_batches)\n",
    "            self.disc_losses.append(disc_loss / self.num_batches)\n",
    "\n",
    "            # Produce images for the GIF as we go\n",
    "            display.clear_output(wait=True)\n",
    "            print('Time for epoch {} is {} sec'.format(epoch + 1, time.time() - start))\n",
    "\n",
    "            self.generate_and_save_images(epoch)\n",
    "\n",
    "        # Generate after the final epoch\n",
    "        display.clear_output(wait=True)\n",
    "        self.generate_and_save_images(epochs)\n",
    "\n",
    "    def generate_and_save_images(self, epoch):\n",
    "        generator_input, generator_labels = self.create_generator_input_and_labels(batch_size=16)\n",
    "\n",
    "        predictions = self.gan.generator(generator_input, training=False)\n",
    "\n",
    "        fig = plt.figure(figsize=(4, 4))\n",
    "        for i in range(predictions.shape[0]):\n",
    "            plt.subplot(4, 4, i + 1) # TODO, add subtitles to subplots, so we know what the generator is trying to create.\n",
    "            plt.imshow(predictions[i, :, :, 0], cmap='gray')\n",
    "\n",
    "        plt.savefig('image_at_epoch_{:04d}.png'.format(epoch))\n",
    "        plt.show()\n",
    "\n",
    "        fig, ax1 = plt.subplots(1, 1, sharey=True, figsize=(10, 5))\n",
    "        ax1.plot(self.gen_losses, label='Generator Loss')\n",
    "        ax1.plot(self.disc_losses, label='Discriminator Loss')\n",
    "        ax1.legend()\n",
    "        plt.show()"
   ],
   "metadata": {
    "collapsed": false,
    "ExecuteTime": {
     "end_time": "2023-10-05T22:47:09.362744900Z",
     "start_time": "2023-10-05T22:47:09.346012300Z"
    }
   }
  },
  {
   "cell_type": "code",
   "execution_count": null,
   "outputs": [
    {
     "name": "stdout",
     "output_type": "stream",
     "text": [
      "Time for epoch 15 is 62.15395212173462 sec\n"
     ]
    },
    {
     "data": {
      "text/plain": "<Figure size 400x400 with 16 Axes>",
      "image/png": "[encoded data removed]"
     },
     "metadata": {},
     "output_type": "display_data"
    },
    {
     "data": {
      "text/plain": "<Figure size 1000x500 with 1 Axes>",
      "image/png": "[encoded data removed]"
     },
     "metadata": {},
     "output_type": "display_data"
    },
    {
     "name": "stdout",
     "output_type": "stream",
     "text": [
      "Epoch 16/50\n"
     ]
    }
   ],
   "source": [
    "gan = GAN_trainer(mn_x_train, mn_x_train_labels)\n",
    "\n",
    "gan.train(epochs=50)"
   ],
   "metadata": {
    "collapsed": false,
    "is_executing": true
   }
  },
  {
   "cell_type": "code",
   "execution_count": null,
   "outputs": [],
   "source": [
    "print(tf.data.experimental.cardinality(gan.dataset).numpy())"
   ],
   "metadata": {
    "collapsed": false
   }
  },
  {
   "cell_type": "code",
   "execution_count": null,
   "outputs": [],
   "source": [
    "zeros_tensor = tf.constant([0, 2], dtype=tf.float32)\n",
    "\n",
    "print(gan.image_labels.shape)\n",
    "\n",
    "for set in gan.dataset:\n",
    "    images, labels = set\n",
    "    print(labels.shape)\n",
    "    break\n",
    "\n",
    "# tf.tile(tf.expand_dims(zeros_tensor, axis=0), [256, 1])"
   ],
   "metadata": {
    "collapsed": false
   }
  },
  {
   "cell_type": "code",
   "execution_count": null,
   "outputs": [],
   "source": [
    "tensor = tf.constant([\n",
    "    [9.1, 5, 6, 3, 2, 1],\n",
    "    [0, 100, 6, 3, 9, 2],\n",
    "    [11, 2, 7, 4, 0, 10]\n",
    "])\n",
    "\n",
    "# print(tensor[tf.gather(tensor, tf.argsort(tensor, axis=1))])\n",
    "\n",
    "# print(tf.argmax(tensor[:, 2:]))"
   ],
   "metadata": {
    "collapsed": false
   }
  },
  {
   "cell_type": "code",
   "execution_count": null,
   "outputs": [],
   "source": [
    "tf.gather_nd(tensor, tf.argsort(tensor[:, :2], axis=1))"
   ],
   "metadata": {
    "collapsed": false
   }
  },
  {
   "cell_type": "code",
   "execution_count": null,
   "outputs": [],
   "source": [
    "first_two = tf.argmax(tensor[:, :2], axis=1)\n",
    "first_two = tf.expand_dims(first_two, axis=1)\n",
    "last_ones = tf.argmax(tensor[:, 2:], axis=1)\n",
    "last_ones = tf.expand_dims(last_ones, axis=1)\n",
    "first_two = tf.cast(first_two, dtype=tf.int32)\n",
    "last_ones = tf.cast(last_ones, dtype=tf.int32) + 2"
   ],
   "metadata": {
    "collapsed": false
   }
  },
  {
   "cell_type": "code",
   "execution_count": null,
   "outputs": [],
   "source": [
    "indices = tf.concat([first_two, last_ones], axis=1)"
   ],
   "metadata": {
    "collapsed": false
   }
  },
  {
   "cell_type": "code",
   "execution_count": null,
   "outputs": [],
   "source": [
    "import tensorflow as tf\n",
    "num_rows = tf.shape(indices)[0]\n",
    "row_range = tf.range(num_rows)\n",
    "row_indices = tf.tile(tf.expand_dims(row_range, 1), [1, tf.shape(indices)[1]])\n",
    "row_indices_flat = tf.reshape(row_indices, [-1])\n",
    "col_indices_flat = tf.reshape(indices, [-1])\n",
    "expanded_indices = tf.stack([row_indices_flat, col_indices_flat], axis=-1)\n",
    "expanded_indices = tf.cast(expanded_indices, dtype=tf.int64)"
   ],
   "metadata": {
    "collapsed": false
   }
  },
  {
   "cell_type": "code",
   "execution_count": null,
   "outputs": [],
   "source": [
    "values = [1] * 6\n",
    "shape = [3, 6]\n",
    "delta = tf.SparseTensor(expanded_indices, values, shape)"
   ],
   "metadata": {
    "collapsed": false
   }
  },
  {
   "cell_type": "code",
   "execution_count": null,
   "outputs": [],
   "source": [
    "delta"
   ],
   "metadata": {
    "collapsed": false
   }
  },
  {
   "cell_type": "code",
   "execution_count": null,
   "outputs": [],
   "source": [
    "tf.sparse.to_dense(delta)"
   ],
   "metadata": {
    "collapsed": false
   }
  },
  {
   "cell_type": "code",
   "execution_count": null,
   "outputs": [],
   "source": [
    "tf.cast(tf.shape(delta), \"int64\")"
   ],
   "metadata": {
    "collapsed": false
   }
  },
  {
   "cell_type": "code",
   "execution_count": null,
   "outputs": [],
   "source": [
    "tf.shape(delta)"
   ],
   "metadata": {
    "collapsed": false
   }
  },
  {
   "cell_type": "code",
   "execution_count": null,
   "outputs": [],
   "source": [
    "discriminator_output = tf.constant([\n",
    "    [9.1, 5, 6, 3, 2, 1],\n",
    "    [0, 100, 6, 3, 9, 2],\n",
    "    [11, 2, 7, 4, 0, 10]\n",
    "])\n",
    "\n",
    "first_two = tf.argmax(discriminator_output[:, :2], axis=1)\n",
    "first_two = tf.expand_dims(first_two, axis=1)\n",
    "last_ones = tf.argmax(discriminator_output[:, 2:], axis=1)\n",
    "last_ones = tf.expand_dims(last_ones, axis=1)\n",
    "first_two = tf.cast(first_two, dtype=tf.int32)\n",
    "last_ones = tf.cast(last_ones, dtype=tf.int32) + 2\n",
    "indices = tf.concat([first_two, last_ones], axis=1)\n",
    "\n",
    "num_rows = tf.shape(indices)[0]\n",
    "row_range = tf.range(num_rows)\n",
    "row_indices = tf.tile(tf.expand_dims(row_range, 1), [1, tf.shape(indices)[1]])\n",
    "row_indices_flat = tf.reshape(row_indices, [-1])\n",
    "col_indices_flat = tf.reshape(indices, [-1])\n",
    "expanded_indices = tf.stack([row_indices_flat, col_indices_flat], axis=-1)\n",
    "expanded_indices = tf.cast(expanded_indices, dtype=tf.int64)\n",
    "\n",
    "output_size = tf.shape(discriminator_output)[0]\n",
    "\n",
    "values = [1] * 2 * output_size\n",
    "shape = tf.cast(tf.shape(discriminator_output), \"int64\")\n",
    "output = tf.SparseTensor(expanded_indices, values, shape)\n",
    "\n",
    "print(output._numpy())\n",
    "\n",
    "dense = tf.sparse.to_dense(output)\n"
   ],
   "metadata": {
    "collapsed": false
   }
  },
  {
   "cell_type": "code",
   "execution_count": null,
   "outputs": [],
   "source": [
    "tf.shape(discriminator_output)[0]"
   ],
   "metadata": {
    "collapsed": false
   }
  },
  {
   "cell_type": "code",
   "execution_count": null,
   "outputs": [],
   "source": [
    "values.numpy()"
   ],
   "metadata": {
    "collapsed": false
   }
  },
  {
   "cell_type": "code",
   "execution_count": null,
   "outputs": [],
   "source": [
    "values = [1 for i in range(2 * output_size)]"
   ],
   "metadata": {
    "collapsed": false
   }
  },
  {
   "cell_type": "code",
   "execution_count": null,
   "outputs": [],
   "source": [
    "values"
   ],
   "metadata": {
    "collapsed": false
   }
  },
  {
   "cell_type": "code",
   "execution_count": null,
   "outputs": [],
   "source": [
    "values.numpy()"
   ],
   "metadata": {
    "collapsed": false
   }
  },
  {
   "cell_type": "code",
   "execution_count": null,
   "outputs": [],
   "source": [
    "discriminator_output.dtype"
   ],
   "metadata": {
    "collapsed": false
   }
  },
  {
   "cell_type": "code",
   "execution_count": null,
   "outputs": [],
   "source": [
    "# Original row\n",
    "original_row = tf.constant([0, 1], dtype=tf.float32)\n",
    "\n",
    "# Repeat the row three times\n",
    "repeated_rows = tf.repeat(tf.expand_dims(original_row, axis=0), repeats=3, axis=0)\n",
    "\n",
    "repeated_rows\n"
   ],
   "metadata": {
    "collapsed": false
   }
  },
  {
   "cell_type": "code",
   "execution_count": null,
   "outputs": [],
   "source": [],
   "metadata": {
    "collapsed": false
   }
  }
 ],
 "metadata": {
  "kernelspec": {
   "display_name": "Python 3 (ipykernel)",
   "language": "python",
   "name": "python3"
  },
  "language_info": {
   "codemirror_mode": {
    "name": "ipython",
    "version": 3
   },
   "file_extension": ".py",
   "mimetype": "text/x-python",
   "name": "python",
   "nbconvert_exporter": "python",
   "pygments_lexer": "ipython3",
   "version": "3.9.18"
  },
  "orig_nbformat": 4
 },
 "nbformat": 4,
 "nbformat_minor": 2
}
